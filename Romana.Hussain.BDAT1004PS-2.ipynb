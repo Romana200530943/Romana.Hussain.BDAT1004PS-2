{
 "cells": [
  {
   "cell_type": "markdown",
   "id": "8afa5b80-52cc-45a9-ade1-40c0a2de8cbe",
   "metadata": {},
   "source": [
    "#  BDAT 1004 – Data Programming \r",
    "# Problem set 2\n",
    "## Romana Hussain\n",
    "## Student id : 200530943"
   ]
  },
  {
   "cell_type": "markdown",
   "id": "9cb2ce86-3010-4fab-ba03-004a21b1bf08",
   "metadata": {},
   "source": [
    "### Question 1"
   ]
  },
  {
   "cell_type": "code",
   "execution_count": 1,
   "id": "ad2980ce-4aa0-4e94-954b-2da7fad414ba",
   "metadata": {},
   "outputs": [],
   "source": [
    "a = 0\n",
    "def b():\n",
    "    global a\n",
    "    a = c(a)\n",
    "def c(a):\n",
    "     return a + 2"
   ]
  },
  {
   "cell_type": "code",
   "execution_count": 2,
   "id": "87dcadb0-5024-429b-84e7-8f771a830b4e",
   "metadata": {},
   "outputs": [
    {
     "data": {
      "text/plain": [
       "6"
      ]
     },
     "execution_count": 2,
     "metadata": {},
     "output_type": "execute_result"
    }
   ],
   "source": [
    "b()\n",
    "b()\n",
    "b()\n",
    "a"
   ]
  },
  {
   "cell_type": "markdown",
   "id": "ba1256ee-63be-4fec-9214-dd6068167e65",
   "metadata": {},
   "source": [
    "The value displayed is 6. This is because the variable a in the function b is tied to the global variable a, and this variable a is getting updated by the function b. The updation happens at c which does the updation on its local variable a, but the value returned by c is used by b to update the global variable a"
   ]
  },
  {
   "cell_type": "markdown",
   "id": "5f9fa189-cbe7-444f-8fa6-b98be640405b",
   "metadata": {},
   "source": [
    "### Question 2"
   ]
  },
  {
   "cell_type": "code",
   "execution_count": 3,
   "id": "12be388c-60c6-4ada-a7f2-9203588e620a",
   "metadata": {},
   "outputs": [],
   "source": [
    "def fileLength(file_name):\n",
    "    try:\n",
    "        file = open(file_name)\n",
    "        contents = file.read()\n",
    "        file.close()\n",
    "        print(len(contents))\n",
    "    except IOError:\n",
    "        print(f'File {file_name} not found.')    "
   ]
  },
  {
   "cell_type": "code",
   "execution_count": 4,
   "id": "df09fa4e-dfb1-4f2d-a9c7-68a63f1cd12f",
   "metadata": {},
   "outputs": [
    {
     "name": "stdout",
     "output_type": "stream",
     "text": [
      "396\n"
     ]
    }
   ],
   "source": [
    "fileLength('w3c.html')"
   ]
  },
  {
   "cell_type": "code",
   "execution_count": 5,
   "id": "904dd114-699c-42ac-b067-1116fe71af75",
   "metadata": {},
   "outputs": [
    {
     "name": "stdout",
     "output_type": "stream",
     "text": [
      "File w3cc.txt not found.\n"
     ]
    }
   ],
   "source": [
    "fileLength('w3cc.txt')"
   ]
  },
  {
   "cell_type": "markdown",
   "id": "2a84d488-e483-4ab9-8270-f572f752cbcf",
   "metadata": {},
   "source": [
    "### Question 3"
   ]
  },
  {
   "cell_type": "code",
   "execution_count": 6,
   "id": "a065be72-afb2-44b0-b253-0ef4343e43bb",
   "metadata": {},
   "outputs": [],
   "source": [
    "class Marsupial:\n",
    "\n",
    "    def __init__(self):\n",
    "        'instantiates an empty pouch'\n",
    "        self.pouch = []\n",
    "\n",
    "    def put_in_pouch (self, item):\n",
    "        'inserts the item into the pouch'\n",
    "        return self.pouch.append(item)\n",
    "\n",
    "    def pouch_contents(self):\n",
    "        'display contents of the pouch'\n",
    "        return self.pouch"
   ]
  },
  {
   "cell_type": "code",
   "execution_count": 7,
   "id": "5c8cff58-5851-4f73-8fc7-2f2d3dbacf64",
   "metadata": {},
   "outputs": [
    {
     "data": {
      "text/plain": [
       "['doll', 'firetruck', 'kitten']"
      ]
     },
     "execution_count": 7,
     "metadata": {},
     "output_type": "execute_result"
    }
   ],
   "source": [
    "m = Marsupial()\n",
    "m.put_in_pouch('doll')\n",
    "m.put_in_pouch('firetruck')\n",
    "m.put_in_pouch('kitten')\n",
    "m.pouch_contents()"
   ]
  },
  {
   "cell_type": "code",
   "execution_count": 8,
   "id": "27d87d54-7727-435b-b2c0-8d7cf5977d08",
   "metadata": {},
   "outputs": [],
   "source": [
    "class Kangaroo(Marsupial):\n",
    "\n",
    "    def __init__(self,x,y):\n",
    "        'instantiates an Kangaroo class with coordiante'\n",
    "        super().__init__()\n",
    "        self.x = x\n",
    "        self.y = y \n",
    "        \n",
    "    def jump(self,dx,dy):\n",
    "        self.x = self.x + dx\n",
    "        self.y = self.y + dy\n",
    "        \n",
    "    def __str__(self):\n",
    "        return f'I am a Kangaroo located at coordinates ({self.x},{self.y})' "
   ]
  },
  {
   "cell_type": "code",
   "execution_count": 9,
   "id": "4f149d91-94b6-4f2d-9320-6887c98fbd0c",
   "metadata": {},
   "outputs": [
    {
     "name": "stdout",
     "output_type": "stream",
     "text": [
      "I am a Kangaroo located at coordinates (0,0)\n"
     ]
    }
   ],
   "source": [
    "k = Kangaroo(0,0)\n",
    "print(k)"
   ]
  },
  {
   "cell_type": "code",
   "execution_count": 10,
   "id": "7e30c7ec-e559-4c60-bbe3-e8f0dbf9b642",
   "metadata": {},
   "outputs": [
    {
     "data": {
      "text/plain": [
       "['doll', 'firetruck', 'kitten']"
      ]
     },
     "execution_count": 10,
     "metadata": {},
     "output_type": "execute_result"
    }
   ],
   "source": [
    "k.put_in_pouch('doll')\n",
    "k.put_in_pouch('firetruck')\n",
    "k.put_in_pouch('kitten')\n",
    "k.pouch_contents()"
   ]
  },
  {
   "cell_type": "code",
   "execution_count": 11,
   "id": "bcb84fa8-1d1f-4746-9510-11f8c914b73c",
   "metadata": {},
   "outputs": [
    {
     "name": "stdout",
     "output_type": "stream",
     "text": [
      "I am a Kangaroo located at coordinates (3,0)\n"
     ]
    }
   ],
   "source": [
    "k.jump(1,0)\n",
    "k.jump(1,0)\n",
    "k.jump(1,0)\n",
    "print(k)"
   ]
  },
  {
   "cell_type": "markdown",
   "id": "0da57e0c-d213-49d0-a643-02bb995a2221",
   "metadata": {},
   "source": [
    "### Question 4"
   ]
  },
  {
   "cell_type": "code",
   "execution_count": 12,
   "id": "95f2d6d9-948d-44f8-a25c-6f97e9019a58",
   "metadata": {},
   "outputs": [],
   "source": [
    "def collatz(x):\n",
    "    \n",
    "    print(x)\n",
    "    \n",
    "    if x==1:\n",
    "        return\n",
    "    if x%2==0:\n",
    "        x = x//2\n",
    "    else:\n",
    "        x = (3*x) + 1\n",
    "    collatz(x)"
   ]
  },
  {
   "cell_type": "code",
   "execution_count": 13,
   "id": "8daf1405-ccbf-4c4b-8152-82629661d24d",
   "metadata": {},
   "outputs": [
    {
     "name": "stdout",
     "output_type": "stream",
     "text": [
      "1\n"
     ]
    }
   ],
   "source": [
    "collatz(1)"
   ]
  },
  {
   "cell_type": "code",
   "execution_count": 14,
   "id": "079484a3-8a5a-4070-a63f-092ff2731eab",
   "metadata": {},
   "outputs": [
    {
     "name": "stdout",
     "output_type": "stream",
     "text": [
      "10\n",
      "5\n",
      "16\n",
      "8\n",
      "4\n",
      "2\n",
      "1\n"
     ]
    }
   ],
   "source": [
    "collatz(10)"
   ]
  },
  {
   "cell_type": "markdown",
   "id": "24378af4-8430-4419-9b23-f636d2e88cc9",
   "metadata": {},
   "source": [
    "### Question 5"
   ]
  },
  {
   "cell_type": "code",
   "execution_count": 15,
   "id": "0534db7a-88d5-4b9a-824e-4d2508bdb1a0",
   "metadata": {},
   "outputs": [],
   "source": [
    "def binary(n):\n",
    "    if n<0: \n",
    "        print(\"The number should not be negative\")\n",
    "        return\n",
    "\n",
    "    if n//2 !=0:\n",
    "        binary(n//2)\n",
    "    print(n%2,end='')"
   ]
  },
  {
   "cell_type": "code",
   "execution_count": 16,
   "id": "8b08eb3f-6dfe-4cdc-b19d-54153ab1a921",
   "metadata": {},
   "outputs": [
    {
     "name": "stdout",
     "output_type": "stream",
     "text": [
      "0"
     ]
    }
   ],
   "source": [
    "binary(0)"
   ]
  },
  {
   "cell_type": "code",
   "execution_count": 17,
   "id": "c887ce3d-3014-44ba-b238-cc77c1bc3b41",
   "metadata": {},
   "outputs": [
    {
     "name": "stdout",
     "output_type": "stream",
     "text": [
      "1"
     ]
    }
   ],
   "source": [
    "binary(1)"
   ]
  },
  {
   "cell_type": "code",
   "execution_count": 18,
   "id": "ab4792b3-965f-49ed-8317-fbc93a5a2266",
   "metadata": {},
   "outputs": [
    {
     "name": "stdout",
     "output_type": "stream",
     "text": [
      "11"
     ]
    }
   ],
   "source": [
    "binary(3)"
   ]
  },
  {
   "cell_type": "code",
   "execution_count": 19,
   "id": "0c7c75df-f443-440e-a732-bbae5378b323",
   "metadata": {},
   "outputs": [
    {
     "name": "stdout",
     "output_type": "stream",
     "text": [
      "1001"
     ]
    }
   ],
   "source": [
    "binary(9)"
   ]
  },
  {
   "cell_type": "code",
   "execution_count": 20,
   "id": "42b5a76b-9082-41bd-a833-4158ec4bbc84",
   "metadata": {},
   "outputs": [
    {
     "name": "stdout",
     "output_type": "stream",
     "text": [
      "The number should not be negative\n"
     ]
    }
   ],
   "source": [
    "binary(-12)"
   ]
  },
  {
   "cell_type": "markdown",
   "id": "e54ca0ca-a953-4ee3-9fec-06ff41f1d5f2",
   "metadata": {},
   "source": [
    "### Question 6"
   ]
  },
  {
   "cell_type": "code",
   "execution_count": 21,
   "id": "5d060785-e261-4ff0-8037-2a918204f9ff",
   "metadata": {},
   "outputs": [],
   "source": [
    "from html.parser import HTMLParser\n",
    "class HeadingParser(HTMLParser):\n",
    "        \n",
    "    def __init__(self):\n",
    "        self.indendationCharacter = \" \"\n",
    "        self.isHeading = False\n",
    "        self.totalIndendation = 0 # total indendation character to print\n",
    "        super().__init__()\n",
    "\n",
    "    def handle_starttag(self, tag, attrs):\n",
    "        if tag.startswith(\"h\") and tag[1].isdigit():\n",
    "            self.isHeading = True\n",
    "            self.totalIndendation = int(tag[1])-1\n",
    "\n",
    "    # reset the variables after a tag is parsed\n",
    "    def handle_endtag(self,tag):\n",
    "        self.totalIndendation = 0\n",
    "        self.isHeading = False\n",
    "            \n",
    "    def handle_data(self, data):\n",
    "        if self.isHeading:\n",
    "            print( self.totalIndendation*self.indendationCharacter + data)"
   ]
  },
  {
   "cell_type": "code",
   "execution_count": 22,
   "id": "6b0e0b8f-8e15-41c0-b939-2effbadbaa7c",
   "metadata": {},
   "outputs": [
    {
     "name": "stdout",
     "output_type": "stream",
     "text": [
      "W3C Mission\n",
      " Principles\n"
     ]
    }
   ],
   "source": [
    "infile = open('w3c.html') \n",
    "content = infile.read() \n",
    "infile.close() \n",
    "hp = HeadingParser() \n",
    "hp.feed(content) "
   ]
  },
  {
   "cell_type": "markdown",
   "id": "d63986ae-bb4c-40fe-baad-5dc237eddfd8",
   "metadata": {},
   "source": [
    "### Question 7"
   ]
  },
  {
   "cell_type": "code",
   "execution_count": 23,
   "id": "8e1fecff-8af0-44ac-934a-80763ab83467",
   "metadata": {},
   "outputs": [],
   "source": [
    "# ReUsing this code from lecture notebook\n",
    "from urllib.parse import urljoin\n",
    "from html.parser import HTMLParser\n",
    "from urllib.request import urlopen,HTTPError\n",
    "\n",
    "\n",
    "class Collector(HTMLParser):\n",
    "    'collects hyperlink URLs into a list'\n",
    "\n",
    "    def __init__(self, url):\n",
    "        'initializes parser, the url, and a list'\n",
    "        HTMLParser.__init__(self)\n",
    "        self.url = url\n",
    "        self.links = []\n",
    "\n",
    "    \n",
    "    def handle_starttag(self, tag, attrs):\n",
    "        'collects hyperlink URLs in their absolute format'\n",
    "        if tag == 'a':\n",
    "            for attr in attrs:\n",
    "                if attr[0] == 'href':\n",
    "                    # construct absolute URL\n",
    "                    absolute = urljoin(self.url, attr[1])\n",
    "                    if absolute[:4] == 'http': # collect HTTP URLs\n",
    "                        self.links.append(absolute)\n",
    "                        \n",
    "    def getLinks(self):\n",
    "        'returns hyperlinks URLs in their absolute format'\n",
    "        return self.links\n"
   ]
  },
  {
   "cell_type": "code",
   "execution_count": 24,
   "id": "5c612b61-750a-4072-96fb-5dbf2e7c490d",
   "metadata": {},
   "outputs": [],
   "source": [
    "def webdir(URL, depth, indent):\n",
    "    \n",
    "    try:\n",
    "        resource = urlopen(URL)\n",
    "        content = resource.read().decode()\n",
    "\n",
    "        collector = Collector(URL)\n",
    "        collector.feed(content)\n",
    "\n",
    "        print(\"\\t\"*indent+URL)\n",
    "        \n",
    "        global visited # Used to avoid visiting an URL already visited\n",
    "        visited.add(URL)\n",
    "\n",
    "        for link in collector.getLinks():\n",
    "            if depth>=indent+1 and link not in visited:\n",
    "                webdir(link,depth,indent+1)\n",
    "                \n",
    "                \n",
    "    except HTTPError:\n",
    "        print(\"\\t\"*indent + f\"URL:{URL} is not accessible\")"
   ]
  },
  {
   "cell_type": "code",
   "execution_count": 25,
   "id": "a941b042-860f-41f9-b4ee-b85221bdcbdb",
   "metadata": {},
   "outputs": [
    {
     "name": "stdout",
     "output_type": "stream",
     "text": [
      "URL:http://reed.cs.depaul.edu/lperkovic/csc242/test1.html is not accessible\n"
     ]
    }
   ],
   "source": [
    "visited = set()\n",
    "webdir('http://reed.cs.depaul.edu/lperkovic/csc242/test1.html', 2, 0) # This URL is not accessible"
   ]
  },
  {
   "cell_type": "code",
   "execution_count": 26,
   "id": "89b2f3c9-6cbd-4650-ac0a-c9a220b2f654",
   "metadata": {},
   "outputs": [
    {
     "name": "stdout",
     "output_type": "stream",
     "text": [
      "http://reed.cs.depaul.edu/lperkovic/csc242\n",
      "\tURL:http://reed.cs.depaul.edu/lperkovic/homeworks/Winter2020/FinalPractice.html is not accessible\n",
      "\tURL:http://reed.cs.depaul.edu/lperkovic/homeworks/Winter2020/FinalPractice2.html is not accessible\n",
      "\tURL:http://reed.cs.depaul.edu/lperkovic/syllabus.html is not accessible\n",
      "\thttps://d2l.depaul.edu\n",
      "\thttps://d2l.depaul.edu/\n",
      "\thttps://academics.depaul.edu/calendar/Pages/default.aspx\n",
      "\thttps://www.python.org/\n",
      "\thttps://www.python.org/downloads/\n",
      "\thttps://wiki.python.org/moin/BeginnersGuide\n",
      "\thttps://wiki.python.org/moin/BeginnersGuide/NonProgrammers\n",
      "\tURL:https://bcs.wiley.com/he-bcs/Books?action=index&itemId=1118890949&bcsId=9532 is not accessible\n",
      "\thttps://www.acm.org/\n",
      "\thttps://www.garykessler.net/library/crypto.html\n",
      "\thttp://www.alanturing.net/\n",
      "\thttps://aitopics.org/search\n",
      "\thttps://www.sciencemuseum.org.uk/objects-and-stories/women-computing\n",
      "\thttps://www.w3schools.com/\n",
      "\thttps://icpc.global/\n",
      "\thttps://reed.cs.depaul.edu/lperkovic/\n",
      "\tURL:http://reed.cs.depaul.edu/lperkovic/lecture1/ is not accessible\n",
      "\tURL:http://reed.cs.depaul.edu/lperkovic/lecture2/ is not accessible\n",
      "\tURL:http://reed.cs.depaul.edu/lperkovic/lecture3/ is not accessible\n",
      "\tURL:http://reed.cs.depaul.edu/lperkovic/lectures/lecture4/Lecture4.ppt is not accessible\n",
      "\tURL:http://reed.cs.depaul.edu/lperkovic/lecture4/ is not accessible\n",
      "\tURL:http://reed.cs.depaul.edu/lperkovic/lectures/lecture5/Lecture5.ppt is not accessible\n",
      "\tURL:http://reed.cs.depaul.edu/lperkovic/lecture5/ is not accessible\n",
      "\tURL:http://reed.cs.depaul.edu/lperkovic/lecture6/ is not accessible\n",
      "\tURL:http://reed.cs.depaul.edu/lperkovic/lecture7/ is not accessible\n",
      "\tURL:http://reed.cs.depaul.edu/lperkovic/lecture8/ is not accessible\n",
      "\tURL:http://reed.cs.depaul.edu/lperkovic/lecture9/ is not accessible\n",
      "\tURL:http://reed.cs.depaul.edu/lperkovic/csc416/lectures/lecture9/Lecture9.html is not accessible\n",
      "\tURL:http://reed.cs.depaul.edu/lperkovic/lecture10/ is not accessible\n",
      "\tURL:http://reed.cs.depaul.edu/lperkovic/homeworks/Homework1.html is not accessible\n",
      "\tURL:http://reed.cs.depaul.edu/lperkovic/homeworks/Homework2.html is not accessible\n",
      "\tURL:http://reed.cs.depaul.edu/lperkovic/csc242/homeworks/HomeworkSol.html is not accessible\n",
      "\tURL:http://reed.cs.depaul.edu/lperkovic/homeworks/Homework3.html is not accessible\n",
      "\tURL:http://reed.cs.depaul.edu/lperkovic/homeworks/Homework4.html is not accessible\n",
      "\tURL:http://reed.cs.depaul.edu/lperkovic/homeworks/Homework5.html is not accessible\n",
      "\tURL:http://reed.cs.depaul.edu/lperkovic/homeworks/Homework6.html is not accessible\n",
      "\tURL:http://reed.cs.depaul.edu/lperkovic/homeworks/Homework7.html is not accessible\n",
      "\tURL:http://reed.cs.depaul.edu/lperkovic/homeworks/Homework8.html is not accessible\n"
     ]
    }
   ],
   "source": [
    "visited = set()\n",
    "webdir('http://reed.cs.depaul.edu/lperkovic/csc242', 1, 0)"
   ]
  },
  {
   "cell_type": "markdown",
   "id": "d9f0e983-454e-4056-b89e-f9ca927e3aef",
   "metadata": {},
   "source": [
    "### Question 8"
   ]
  },
  {
   "cell_type": "code",
   "execution_count": 27,
   "id": "a39f5c16-61f3-46d5-9754-9faed062b4e4",
   "metadata": {},
   "outputs": [],
   "source": [
    "import sqlite3\n",
    "con = sqlite3.connect('ProblemSet_2.db')\n",
    "cur = con.cursor()"
   ]
  },
  {
   "cell_type": "code",
   "execution_count": 28,
   "id": "8ef4ab32-c331-44f3-ac7c-03b34d6bcea6",
   "metadata": {},
   "outputs": [
    {
     "ename": "OperationalError",
     "evalue": "table temperature already exists",
     "output_type": "error",
     "traceback": [
      "\u001b[1;31m---------------------------------------------------------------------------\u001b[0m",
      "\u001b[1;31mOperationalError\u001b[0m                          Traceback (most recent call last)",
      "Input \u001b[1;32mIn [28]\u001b[0m, in \u001b[0;36m<cell line: 1>\u001b[1;34m()\u001b[0m\n\u001b[1;32m----> 1\u001b[0m \u001b[43mcur\u001b[49m\u001b[38;5;241;43m.\u001b[39;49m\u001b[43mexecute\u001b[49m\u001b[43m(\u001b[49m\u001b[38;5;124;43m\"\u001b[39;49m\u001b[38;5;124;43mCREATE TABLE temperature (City text, Country text, Season text, Temperature float, Rainfall float)\u001b[39;49m\u001b[38;5;124;43m\"\u001b[39;49m\u001b[43m)\u001b[49m\n",
      "\u001b[1;31mOperationalError\u001b[0m: table temperature already exists"
     ]
    }
   ],
   "source": [
    "cur.execute(\"CREATE TABLE temperature (City text, Country text, Season text, Temperature float, Rainfall float)\")"
   ]
  },
  {
   "cell_type": "code",
   "execution_count": null,
   "id": "94cc7bde-55b0-4999-ab04-ead471430356",
   "metadata": {},
   "outputs": [],
   "source": [
    "cur.execute(\"\"\"\n",
    "INSERT INTO temperature VALUES \n",
    "('Mumbai','India','Winter',24.8,5.9),\n",
    "('Mumbai','India','Spring',28.4,16.2),\n",
    "('Mumbai','India','Summer',27.9,1549.4),\n",
    "('Mumbai','India','Fall',27.6,346.0),\n",
    "('London','United Kingdom','Winter',4.2,207.7),\n",
    "('London','United Kingdom','Spring',8.3,169.6),\n",
    "('London','United Kingdom','Summer',15.7,157.0),\n",
    "('London','United Kingdom','Fall',10.4,218.5),\n",
    "('Cairo','Egypt','Winter',13.6,16.5),\n",
    "('Cairo','Egypt','Spring',20.7,6.5),\n",
    "('Cairo','Egypt','Summer',27.7,0.1),\n",
    "('Cairo','Egypt','Fall',22.2,4.5)\n",
    "\"\"\")"
   ]
  },
  {
   "cell_type": "markdown",
   "id": "ef67bce5-ecd4-4635-88d3-13892377b610",
   "metadata": {},
   "source": [
    "a)"
   ]
  },
  {
   "cell_type": "code",
   "execution_count": null,
   "id": "303ac4fe-0cd5-4007-b3a4-e451b7438cfe",
   "metadata": {},
   "outputs": [],
   "source": [
    "cur.execute('SELECT * FROM temperature')\n",
    "cur.fetchall()"
   ]
  },
  {
   "cell_type": "markdown",
   "id": "4477fadc-e2c1-4a40-a422-3f7f49fb91b5",
   "metadata": {},
   "source": [
    "b)"
   ]
  },
  {
   "cell_type": "code",
   "execution_count": null,
   "id": "79b12b8d-b4ae-472e-9c5b-d744fe15e4d2",
   "metadata": {},
   "outputs": [],
   "source": [
    "cur.execute('SELECT distinct city FROM temperature')\n",
    "cur.fetchall()"
   ]
  },
  {
   "cell_type": "markdown",
   "id": "2fef787a-63f6-4837-bf2c-07564e6e67bf",
   "metadata": {},
   "source": [
    "c)"
   ]
  },
  {
   "cell_type": "code",
   "execution_count": null,
   "id": "d43f8e9c-1f3d-45fd-9c65-63540100072c",
   "metadata": {},
   "outputs": [],
   "source": [
    "cur.execute('SELECT * FROM temperature where country = \"India\"')\n",
    "cur.fetchall()"
   ]
  },
  {
   "cell_type": "markdown",
   "id": "b6a68e23-0416-44dc-8da2-25c6e5146939",
   "metadata": {},
   "source": [
    "d)"
   ]
  },
  {
   "cell_type": "code",
   "execution_count": null,
   "id": "5b15c378-8a69-4b4a-b2e1-71291bc5a6b0",
   "metadata": {},
   "outputs": [],
   "source": [
    "cur.execute('SELECT * FROM temperature where season = \"Fall\"')\n",
    "cur.fetchall()"
   ]
  },
  {
   "cell_type": "markdown",
   "id": "a2389161-d448-4123-84c4-530fed6a69e9",
   "metadata": {},
   "source": [
    "e)"
   ]
  },
  {
   "cell_type": "code",
   "execution_count": null,
   "id": "0b8d9a05-9e85-4b83-8777-bc61e3c1a353",
   "metadata": {},
   "outputs": [],
   "source": [
    "cur.execute('SELECT * FROM temperature where rainfall between 200 and 400' )\n",
    "cur.fetchall()"
   ]
  },
  {
   "cell_type": "markdown",
   "id": "de3f3791-5a23-4fd3-ae21-dd949f5d967e",
   "metadata": {},
   "source": [
    "f)"
   ]
  },
  {
   "cell_type": "code",
   "execution_count": null,
   "id": "0ec0475f-a45f-44b7-b6a8-9b50e9d9f0a1",
   "metadata": {},
   "outputs": [],
   "source": [
    "cur.execute(\"\"\"\n",
    "Select City, Country From\n",
    "(\n",
    "SELECT City, Country, Avg(temperature) avgFallTemperature\n",
    "FROM temperature where Season=\"Fall\" group by City, Country\n",
    ")\n",
    "where avgFallTemperature>20\n",
    "order by avgFallTemperature\n",
    "\"\"\"\n",
    ")\n",
    "cur.fetchall()"
   ]
  },
  {
   "cell_type": "markdown",
   "id": "57317568-6873-452b-9333-c4efccc092be",
   "metadata": {},
   "source": [
    "g)"
   ]
  },
  {
   "cell_type": "code",
   "execution_count": null,
   "id": "32a7e85a-a9df-4b7d-8411-b6b4bf548d9a",
   "metadata": {},
   "outputs": [],
   "source": [
    "cur.execute('SELECT sum(Rainfall) FROM temperature where City=\"Cairo\" ' )\n",
    "cur.fetchall()"
   ]
  },
  {
   "cell_type": "markdown",
   "id": "2039fbb8-061f-4cfe-b91b-38d97bd3aa9b",
   "metadata": {},
   "source": [
    "h)"
   ]
  },
  {
   "cell_type": "code",
   "execution_count": null,
   "id": "660339fd-1c0f-4fa2-9cd9-8619b749697d",
   "metadata": {},
   "outputs": [],
   "source": [
    "cur.execute('SELECT Season, sum(Rainfall) FROM temperature group by Season' )\n",
    "cur.fetchall()"
   ]
  },
  {
   "cell_type": "markdown",
   "id": "a0d152c5-9b3f-431c-9307-6a400b97b05e",
   "metadata": {},
   "source": [
    "### Question 9"
   ]
  },
  {
   "cell_type": "code",
   "execution_count": null,
   "id": "688651f3-c5d8-46bf-9be2-9d252d89f389",
   "metadata": {},
   "outputs": [],
   "source": [
    "words = ['The', 'quick', 'brown', 'fox', 'jumps', 'over',\n",
    "'the', 'lazy', 'dog']"
   ]
  },
  {
   "cell_type": "markdown",
   "id": "50ad1051-25b5-4626-b78d-3fc37bfdf840",
   "metadata": {},
   "source": [
    "a)"
   ]
  },
  {
   "cell_type": "code",
   "execution_count": null,
   "id": "59febe0d-1fe6-4d2c-9617-0d443303c5c3",
   "metadata": {},
   "outputs": [],
   "source": [
    "[ word.upper() for word in words]"
   ]
  },
  {
   "cell_type": "markdown",
   "id": "9f553663-91c0-42cb-a9b2-bb43baf9a951",
   "metadata": {},
   "source": [
    "b)"
   ]
  },
  {
   "cell_type": "code",
   "execution_count": null,
   "id": "b6011eab-f06f-4cce-a040-31f5672c1356",
   "metadata": {},
   "outputs": [],
   "source": [
    "[ word.lower() for word in words]"
   ]
  },
  {
   "cell_type": "markdown",
   "id": "42c97cfe-e3b1-4e36-b22a-8982baba0796",
   "metadata": {},
   "source": [
    "c)"
   ]
  },
  {
   "cell_type": "code",
   "execution_count": null,
   "id": "2f4a3c07-3eef-4bb7-b831-4b57a96f9649",
   "metadata": {},
   "outputs": [],
   "source": [
    "[ len(word) for word in words]"
   ]
  },
  {
   "cell_type": "markdown",
   "id": "4af1f6ad-1767-490f-b442-f5ed91f26c7d",
   "metadata": {},
   "source": [
    "d)"
   ]
  },
  {
   "cell_type": "code",
   "execution_count": null,
   "id": "485754d6-c090-4ac5-92fa-f3536b911a91",
   "metadata": {},
   "outputs": [],
   "source": [
    "[ [word.upper(), word.lower(), len(word)] for word in words]"
   ]
  },
  {
   "cell_type": "markdown",
   "id": "01a51b58-5522-4e8e-b363-1727ab872902",
   "metadata": {},
   "source": [
    "e)"
   ]
  },
  {
   "cell_type": "code",
   "execution_count": null,
   "id": "dd3aa3ef-3cd3-49c0-9632-5d766ad23189",
   "metadata": {},
   "outputs": [],
   "source": [
    "[word for word in words if len(word)>3]"
   ]
  },
  {
   "cell_type": "code",
   "execution_count": null,
   "id": "ad0c13c1-0d5b-4e80-b3e8-e4bab0b547c5",
   "metadata": {},
   "outputs": [],
   "source": []
  },
  {
   "cell_type": "code",
   "execution_count": null,
   "id": "5e3d2f5d-9bcc-4652-845b-b068628ea852",
   "metadata": {},
   "outputs": [],
   "source": []
  }
 ],
 "metadata": {
  "kernelspec": {
   "display_name": "Python 3 (ipykernel)",
   "language": "python",
   "name": "python3"
  },
  "language_info": {
   "codemirror_mode": {
    "name": "ipython",
    "version": 3
   },
   "file_extension": ".py",
   "mimetype": "text/x-python",
   "name": "python",
   "nbconvert_exporter": "python",
   "pygments_lexer": "ipython3",
   "version": "3.8.16"
  }
 },
 "nbformat": 4,
 "nbformat_minor": 5
}
